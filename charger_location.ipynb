{
 "cells": [
  {
   "cell_type": "code",
   "execution_count": null,
   "id": "a7b384e8",
   "metadata": {},
   "outputs": [],
   "source": [
    "import Graphs\n",
    "import numpy as np\n",
    "import pandas as pd\n",
    "import math\n",
    "from collections import Counter\n",
    "from sklearn.preprocessing import LabelEncoder\n",
    "import seaborn as sns\n",
    "import matplotlib.pyplot as plt"
   ]
  },
  {
   "cell_type": "code",
   "execution_count": null,
   "id": "1720759f",
   "metadata": {},
   "outputs": [],
   "source": [
    "data_name = 'ev_charging_patterns.csv'\n",
    "data = pd.read_csv(data_name)\n",
    "data = data.dropna()\n",
    "data"
   ]
  },
  {
   "cell_type": "code",
   "execution_count": null,
   "id": "4f5f0e16",
   "metadata": {},
   "outputs": [],
   "source": [
    "dist_models = data['Vehicle Model'].value_counts()\n",
    "dist_models"
   ]
  },
  {
   "cell_type": "code",
   "execution_count": null,
   "id": "063555ac",
   "metadata": {},
   "outputs": [],
   "source": [
    "dist_charging_loc = data['Charging Station Location'].value_counts()\n",
    "dist_charging_loc"
   ]
  },
  {
   "cell_type": "code",
   "execution_count": null,
   "id": "5e403240",
   "metadata": {},
   "outputs": [],
   "source": [
    "unique_chargers = data['Charging Station ID'].value_counts()\n",
    "unique_chargers"
   ]
  },
  {
   "cell_type": "code",
   "execution_count": null,
   "id": "69e24f95",
   "metadata": {},
   "outputs": [],
   "source": [
    "locaiton_temperatures = data.groupby('Charging Station Location')['Temperature (°C)'].apply(lambda temps: [t* 9/5 + 32 for t in temps])\n",
    "locaiton_temperatures"
   ]
  },
  {
   "cell_type": "code",
   "execution_count": null,
   "id": "34b144e7-6d50-4b9b-991d-ab6086aa9d1a",
   "metadata": {},
   "outputs": [],
   "source": [
    "locaiton_temperatures_var = data.groupby('Charging Station Location')['Temperature (°C)'].apply(lambda temps: np.var([t* 9/5 + 32 for t in temps])) \n",
    "locaiton_temperatures_var"
   ]
  },
  {
   "cell_type": "markdown",
   "id": "17b1f99c-d232-4918-95f7-6798b89734b2",
   "metadata": {},
   "source": [
    "compares the min,mean, max of each cities temp"
   ]
  },
  {
   "cell_type": "code",
   "execution_count": null,
   "id": "8fafd730",
   "metadata": {},
   "outputs": [],
   "source": [
    "Graphs.grouped_bar_graph_var(locaiton_temperatures, list(locaiton_temperatures.keys()), 'City', 'Temperature (°F)', 10, 'Temperature by City')"
   ]
  },
  {
   "cell_type": "code",
   "execution_count": null,
   "id": "b0005f06",
   "metadata": {},
   "outputs": [],
   "source": [
    "encoded_location_temp = data.groupby('Charging Station Location')['Temperature (°C)'].apply(\n",
    "    lambda temps: temps.apply(lambda t: 'Hot' if t > 30 else ('Normal' if t > 15 else 'Cold')).tolist()\n",
    ")\n",
    "\n",
    "encoded_location_temp"
   ]
  },
  {
   "cell_type": "code",
   "execution_count": null,
   "id": "f880e044",
   "metadata": {},
   "outputs": [],
   "source": [
    "for city in list(encoded_location_temp.keys()):\n",
    "    print(city)\n",
    "    print(pd.Series(encoded_location_temp[city]).value_counts())"
   ]
  },
  {
   "cell_type": "code",
   "execution_count": null,
   "id": "4f7322c9",
   "metadata": {},
   "outputs": [],
   "source": [
    "locaiton_charging_rates = data.groupby('Charging Station Location')['Charging Rate (kW)'].apply(lambda temps: [t for t in temps])\n",
    "locaiton_charging_rates"
   ]
  },
  {
   "cell_type": "markdown",
   "id": "3dccd256",
   "metadata": {},
   "source": [
    "Generates Graphs of a given city and its charging rate"
   ]
  },
  {
   "cell_type": "code",
   "execution_count": null,
   "id": "0bb5740b",
   "metadata": {},
   "outputs": [],
   "source": [
    "Graphs.grouped_bar_graph_var(locaiton_charging_rates, list(locaiton_charging_rates.keys()), 'City', 'Charging Rates(kW)', 10, 'Charging Rate Per City')"
   ]
  },
  {
   "cell_type": "code",
   "execution_count": null,
   "id": "09bf19d0",
   "metadata": {},
   "outputs": [],
   "source": [
    "loc = 'Chicago'\n",
    "charging_data = locaiton_charging_rates[loc]\n",
    "\n",
    "# Define colors and cycle through them\n",
    "colors = ['red', 'blue', 'green', 'orange', 'purple', 'lime']\n",
    "bar_colors = [colors[i % len(colors)] for i in range(len(charging_data))]\n",
    "\n",
    "\n",
    "plt.figure(figsize=(10, 6))\n",
    "plt.bar(range(len(charging_data)), charging_data, color=bar_colors, width=2)\n",
    "plt.title(f'Charging Rates in {loc}')\n",
    "plt.xlabel('Charging Stations')\n",
    "plt.ylabel('Charging Rate (kW)')\n",
    "plt.xticks([])\n",
    "plt.tight_layout()\n",
    "\n",
    "plt.show()"
   ]
  },
  {
   "cell_type": "markdown",
   "id": "e6136bbf",
   "metadata": {},
   "source": [
    "Generates a bar graph comparing the mean, low, and high of each city"
   ]
  },
  {
   "cell_type": "code",
   "execution_count": null,
   "id": "49428103",
   "metadata": {},
   "outputs": [],
   "source": [
    "locaiton_charger_types = data.groupby('Charging Station Location')['Charger Type'].apply(list)\n",
    "locaiton_charger_types"
   ]
  },
  {
   "cell_type": "markdown",
   "id": "00201e77",
   "metadata": {},
   "source": [
    "Generates a bar graph of each charger type in each city"
   ]
  },
  {
   "cell_type": "code",
   "execution_count": null,
   "id": "d59f88d5",
   "metadata": {},
   "outputs": [],
   "source": [
    "compare_charging_data = []\n",
    "cities = list(locaiton_charger_types.keys())\n",
    "city_labels = []\n",
    "colors = ['red', 'blue', 'green', 'orange', 'purple']\n",
    "\n",
    "for i, city in enumerate(cities):\n",
    "    rates = locaiton_charger_types[city]\n",
    "    vals = Counter(rates)\n",
    "    compare_charging_data.extend([vals['Level 1'], vals['Level 2'], vals['DC Fast Charger']])\n",
    "    city_labels.extend([city] * 3)\n",
    "\n",
    "plt.figure(figsize=(8, 6))\n",
    "\n",
    "bar_width = 0.8\n",
    "positions = np.arange(len(compare_charging_data))\n",
    "\n",
    "for i, city in enumerate(cities):\n",
    "    city_position = positions[i * 3: (i + 1) * 3]\n",
    "    plt.bar(city_position, compare_charging_data[i * 3:(i + 1) * 3], \n",
    "            color=colors[i], edgecolor='black', width=bar_width)\n",
    "\n",
    "plt.title('Charger Type in each City (Level 1, Level 2, DC Fast)')\n",
    "plt.xlabel('City')\n",
    "plt.ylabel('Charging Types')\n",
    "\n",
    "plt.xticks(ticks=np.arange(0, len(compare_charging_data), 3), labels=cities, rotation=0)\n",
    "plt.tight_layout()\n",
    "plt.show()"
   ]
  },
  {
   "cell_type": "markdown",
   "id": "3db3d347",
   "metadata": {},
   "source": [
    "Generates a pie graph for each city's charger type distrbution"
   ]
  },
  {
   "cell_type": "code",
   "execution_count": null,
   "id": "43fa437b",
   "metadata": {},
   "outputs": [],
   "source": [
    "loc = 'Houston'\n",
    "t_o_d = locaiton_charger_types[loc]\n",
    "Graphs.pie_graph(t_o_d, f'Charger Types in f{loc}')"
   ]
  },
  {
   "cell_type": "code",
   "execution_count": null,
   "id": "be7c7b5a",
   "metadata": {},
   "outputs": [],
   "source": [
    "locaiton_charger_types_rates = data.groupby(['Charging Station Location', 'Charger Type'])['Charging Rate (kW)'].apply(list)\n",
    "locaiton_charger_types_rates"
   ]
  },
  {
   "cell_type": "markdown",
   "id": "a4b6af0b",
   "metadata": {},
   "source": [
    "Generates a bar graph for each charging rate per charger type in a city"
   ]
  },
  {
   "cell_type": "code",
   "execution_count": null,
   "id": "3365ac00",
   "metadata": {},
   "outputs": [],
   "source": [
    "loc = 'Houston'\n",
    "Graphs.grouped_bar_graph_var(locaiton_charger_types_rates[loc], list(locaiton_charger_types_rates[loc].keys()), 'Charging Types', 'Charging Rates (kW)', 5, f'Charging Rate by Type in {loc}')"
   ]
  },
  {
   "cell_type": "code",
   "execution_count": null,
   "id": "aff5a277",
   "metadata": {},
   "outputs": [],
   "source": [
    "locaiton_charger_types_costs = data.groupby(['Charging Station Location', 'Charger Type'])['Charging Cost (USD)'].apply(list)\n",
    "locaiton_charger_types_costs"
   ]
  },
  {
   "cell_type": "markdown",
   "id": "2779caf1",
   "metadata": {},
   "source": [
    "Generates a bar graph for a city on the cost of charging using a charger type"
   ]
  },
  {
   "cell_type": "code",
   "execution_count": null,
   "id": "d2760d82",
   "metadata": {},
   "outputs": [],
   "source": [
    "loc = 'Houston'\n",
    "Graphs.grouped_bar_graph_var(locaiton_charger_types_costs[loc], list(locaiton_charger_types_costs[loc].keys()), 'Charging Types', 'Charging Cost (USD)', 5, f'Charging Cost by Type in {loc}')"
   ]
  },
  {
   "cell_type": "code",
   "execution_count": null,
   "id": "12d6e213",
   "metadata": {},
   "outputs": [],
   "source": [
    "locaiton_time_of_day = data.groupby('Charging Station Location')['Time of Day'].apply(list)\n",
    "locaiton_time_of_day"
   ]
  },
  {
   "cell_type": "markdown",
   "id": "0dd7bd47",
   "metadata": {},
   "source": [
    "Generates the time of day distrubtion pie graph for a given city"
   ]
  },
  {
   "cell_type": "code",
   "execution_count": null,
   "id": "19df7881",
   "metadata": {},
   "outputs": [],
   "source": [
    "loc = 'New York'\n",
    "t_o_d = locaiton_time_of_day[loc]\n",
    "Graphs.pie_graph(t_o_d, f'Time of Day for Charging in {loc}')"
   ]
  },
  {
   "cell_type": "code",
   "execution_count": null,
   "id": "ad22241b",
   "metadata": {},
   "outputs": [],
   "source": [
    "locaiton_day_of_week = data.groupby('Charging Station Location')['Day of Week'].apply(list)\n",
    "locaiton_day_of_week"
   ]
  },
  {
   "cell_type": "markdown",
   "id": "45159a87",
   "metadata": {},
   "source": [
    "Generates a pie graph for day of weeks where charing occurs\n"
   ]
  },
  {
   "cell_type": "code",
   "execution_count": null,
   "id": "b515edb1",
   "metadata": {},
   "outputs": [],
   "source": [
    "loc = 'Houston'\n",
    "t_o_d = locaiton_day_of_week[loc]\n",
    "Graphs.pie_graph(t_o_d, f'TIme Day of Week for Charging in {loc}')"
   ]
  },
  {
   "cell_type": "code",
   "execution_count": null,
   "id": "17104d13",
   "metadata": {},
   "outputs": [],
   "source": [
    "cols = ['Charging Station Location', 'Time of Day', 'Day of Week', 'Temperature (°C)', 'Charger Type', 'Charging Cost (USD)', 'Charging Rate (kW)']\n",
    "d = data[cols].copy()\n",
    "\n",
    "labels = {}\n",
    "\n",
    "for col in ['Charging Station Location', 'Time of Day', 'Day of Week', 'Charger Type']:\n",
    "    le = LabelEncoder()\n",
    "    d[col] = le.fit_transform(d[col])\n",
    "    labels[col] = le\n",
    "\n",
    "mat = d.corr()\n",
    "\n",
    "plt.figure(figsize=(10, 8))\n",
    "sns.heatmap(mat, annot=True, cmap='coolwarm', fmt=\".1f\")\n",
    "plt.title(\"Correlation Matrix of Charging Data Features\")\n",
    "plt.show()"
   ]
  },
  {
   "cell_type": "code",
   "execution_count": null,
   "id": "02d957a0",
   "metadata": {},
   "outputs": [],
   "source": [
    "df = data.copy()\n",
    "categorical_cols = df.select_dtypes(include=['object']).columns\n",
    "\n",
    "label_encoders = {}\n",
    "for col in categorical_cols:\n",
    "    le = LabelEncoder()\n",
    "    df[col] = le.fit_transform(df[col].astype(str))\n",
    "    label_encoders[col] = le\n",
    "\n",
    "mat = df.corr()\n",
    "plt.figure(figsize=(12, 10))\n",
    "sns.heatmap(mat, annot=True, cmap='coolwarm', fmt=\".2f\", linewidths=0.5)\n",
    "plt.title(\"Correlation Matrix of All Features\")\n",
    "plt.show()"
   ]
  },
  {
   "cell_type": "code",
   "execution_count": null,
   "id": "34abe9c0-0248-49b2-bb75-e68f0f3b8655",
   "metadata": {},
   "outputs": [],
   "source": [
    "enhanced_data = data.copy()\n",
    "enhanced_data['cost_per_kwh'] = enhanced_data['Energy Consumed (kWh)'] / enhanced_data['Charging Cost (USD)']\n",
    "enhanced_data['charged_rates_per_hour'] = (enhanced_data['State of Charge (End %)'] - enhanced_data['State of Charge (Start %)']) / enhanced_data['Charging Duration (hours)']\n",
    "mean = enhanced_data['cost_per_kwh'].mean()\n",
    "std = enhanced_data['cost_per_kwh'].std()\n",
    "\n",
    "# filter\n",
    "enhanced_data = enhanced_data[(enhanced_data['cost_per_kwh'] >= mean - 3 * std) & (enhanced_data['cost_per_kwh'] <= mean + 3 * std)]\n",
    "print(f\"original data count: {len(data)}, after filter: {len(enhanced_data)}\")\n",
    "print(enhanced_data['charged_rates_per_hour'][:10])"
   ]
  },
  {
   "cell_type": "code",
   "execution_count": null,
   "id": "62964f11-c6ca-4bf0-874f-448a438451fd",
   "metadata": {},
   "outputs": [],
   "source": [
    "locaiton_charging_unit_price = enhanced_data.groupby('Charging Station Location')['cost_per_kwh'].apply(list)\n",
    "locaiton_charging_unit_price"
   ]
  },
  {
   "cell_type": "code",
   "execution_count": null,
   "id": "552709d7",
   "metadata": {},
   "outputs": [],
   "source": [
    "Graphs.grouped_bar_graph_var(locaiton_charging_unit_price, list(locaiton_charging_unit_price.keys()), 'City', 'Cost (USD/kW)', 1, 'Cost of kwh by City')"
   ]
  },
  {
   "cell_type": "code",
   "execution_count": null,
   "id": "eff5754e-a70b-4394-a88f-bbd9bef1de2f",
   "metadata": {},
   "outputs": [],
   "source": [
    "temperature_filtered_F = enhanced_data['Temperature (°C)']* 9/5 +32\n",
    "plt.scatter(temperature_filtered_F, enhanced_data['cost_per_kwh'])\n",
    "\n",
    "# 添加标题和坐标轴标签\n",
    "plt.title('charging-temperature and price scatter')\n",
    "plt.xlabel('temperature (F)')\n",
    "plt.ylabel('price (USD/Kwh)')\n",
    "\n",
    "# 显示图形\n",
    "plt.show()"
   ]
  },
  {
   "cell_type": "code",
   "execution_count": null,
   "id": "782bcf13-e214-414f-88db-fdfc529a7a43",
   "metadata": {},
   "outputs": [],
   "source": [
    "np.mean(enhanced_data['charged_rates_per_hour'])\n",
    "negative_charger = enhanced_data[enhanced_data['charged_rates_per_hour'] < 0]\n",
    "positive_charger = enhanced_data[enhanced_data['charged_rates_per_hour'] >= 0]\n",
    "print(f\"Original average of charging rates per hour: {np.mean(enhanced_data['charged_rates_per_hour'])}\")\n",
    "print(f\"Average of negative chargers: {np.mean(negative_charger['charged_rates_per_hour'])} Count: {len(negative_charger)}\")\n",
    "print(f\"Average of positive chargers: {np.mean(positive_charger['charged_rates_per_hour'])} Count: {len(positive_charger)}\")"
   ]
  },
  {
   "cell_type": "code",
   "execution_count": null,
   "id": "98b575ef-42cb-4a4c-8a45-87a652f71a77",
   "metadata": {},
   "outputs": [],
   "source": [
    "negative_charger['Charging Station Location'].value_counts()"
   ]
  },
  {
   "cell_type": "code",
   "execution_count": null,
   "id": "0f8e132e-9eef-4669-9342-3790be07537e",
   "metadata": {},
   "outputs": [],
   "source": [
    "mean = positive_charger['charged_rates_per_hour'].mean()\n",
    "std = positive_charger['charged_rates_per_hour'].std()\n",
    "\n",
    "# filter\n",
    "filtered_positive_data = positive_charger[(positive_charger['charged_rates_per_hour'] >= mean - 3 * std) & (positive_charger['charged_rates_per_hour'] <= mean + 3 * std)]"
   ]
  },
  {
   "cell_type": "code",
   "execution_count": null,
   "id": "6cc1bfa6-a25a-48f9-9f99-fb46fd811000",
   "metadata": {},
   "outputs": [],
   "source": [
    "location_charging_unit_speed = filtered_positive_data.groupby('Charging Station Location')['charged_rates_per_hour'].apply(list)\n",
    "Graphs.grouped_bar_graph_var(location_charging_unit_speed,list(location_charging_unit_speed.keys()), 'City', 'Charge Speed (%/kW)', 4, 'Charging Speed')"
   ]
  },
  {
   "cell_type": "code",
   "execution_count": null,
   "id": "980f26ec-2463-4488-b673-b0c4bd35826c",
   "metadata": {},
   "outputs": [],
   "source": [
    "Tesla_data = filtered_positive_data[filtered_positive_data['Vehicle Model'] == \"Tesla Model 3\"]\n",
    "location_charging_unit_speed = Tesla_data.groupby('Charging Station Location')['charged_rates_per_hour'].apply(list)\n",
    "Graphs.grouped_bar_graph_var(location_charging_unit_speed,list(location_charging_unit_speed.keys()), 'City', 'Charge Speed (%/kW)', 4, 'Charging Speed')"
   ]
  }
 ],
 "metadata": {
  "kernelspec": {
   "display_name": "base",
   "language": "python",
   "name": "python3"
  },
  "language_info": {
   "codemirror_mode": {
    "name": "ipython",
    "version": 3
   },
   "file_extension": ".py",
   "mimetype": "text/x-python",
   "name": "python",
   "nbconvert_exporter": "python",
   "pygments_lexer": "ipython3",
   "version": "3.9.13"
  }
 },
 "nbformat": 4,
 "nbformat_minor": 5
}
